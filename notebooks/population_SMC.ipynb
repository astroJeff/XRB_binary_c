{
 "cells": [
  {
   "cell_type": "markdown",
   "metadata": {},
   "source": [
    "# Refine the initialization procedure for XRB with the binary_c backbone"
   ]
  },
  {
   "cell_type": "code",
   "execution_count": 1,
   "metadata": {
    "collapsed": false
   },
   "outputs": [
    {
     "name": "stderr",
     "output_type": "stream",
     "text": [
      "/usr/local/lib/python2.7/dist-packages/matplotlib/__init__.py:1350: UserWarning:  This call to matplotlib.use() has no effect\n",
      "because the backend has already been chosen;\n",
      "matplotlib.use() must be called *before* pylab, matplotlib.pyplot,\n",
      "or matplotlib.backends is imported for the first time.\n",
      "\n",
      "  warnings.warn(_use_error_msg)\n"
     ]
    }
   ],
   "source": [
    "import numpy as np\n",
    "import matplotlib.pyplot as plt\n",
    "from matplotlib import font_manager\n",
    "import matplotlib.gridspec as gridspec\n",
    "import sys\n",
    "\n",
    "import corner\n",
    "import time\n",
    "import pickle\n",
    "import acor\n",
    "\n",
    "import binary_c\n",
    "import xrb\n",
    "from xrb.binary import binary_evolve\n",
    "from xrb.src import stats\n",
    "from xrb.SF_history import sf_history\n",
    "\n",
    "from xrb.src.core import *\n",
    "set_data_path(\"../data\")\n",
    "\n",
    "%matplotlib inline"
   ]
  },
  {
   "cell_type": "code",
   "execution_count": 10,
   "metadata": {
    "collapsed": true
   },
   "outputs": [],
   "source": [
    "\n",
    "def run_test_binary():\n",
    "    m1 = 12.0\n",
    "    m2 = 6.0\n",
    "    eccentricity = 0.41\n",
    "    metallicity = 0.02\n",
    "    time = 33.895\n",
    "    orbital_period = 4530.0\n",
    "\n",
    "    sn_kick_magnitude_1 = 0.0\n",
    "    sn_kick_theta_1 = 0.0\n",
    "    sn_kick_phi_1 = 0.0\n",
    "    sn_kick_magnitude_2 = 0.0\n",
    "    sn_kick_theta_2 = 0.0\n",
    "    sn_kick_phi_2 = 0.0\n",
    "\n",
    "    output = binary_c.run_binary(m1, m2, orbital_period, eccentricity, metallicity, time,\n",
    "                                 sn_kick_magnitude_1, sn_kick_theta_1, sn_kick_phi_1,\n",
    "                                 sn_kick_magnitude_2, sn_kick_theta_2, sn_kick_phi_2, 0, 0)\n",
    "\n",
    "    m1_out, m2_out, orbital_separation_out, eccentricity_out, system_velocity, L_x, \\\n",
    "            time_SN_1, time_SN_2, time_cur, ktype_1, ktype_2, comenv_count, evol_hist = output\n",
    "\n",
    "    evol_steps = evol_hist.split(\"\\n\")\n",
    "    # evol_steps = evol_steps[\"JEFF\" in evol_steps]\n",
    "    \n",
    "#     print evol_steps\n",
    "    \n",
    "    for s in evol_steps:\n",
    "        if s.find(\"JEFF\") == 0:\n",
    "            print s\n",
    "\n",
    "\n",
    "    return output[:-1]"
   ]
  },
  {
   "cell_type": "code",
   "execution_count": 11,
   "metadata": {
    "collapsed": false,
    "scrolled": true
   },
   "outputs": [
    {
     "data": {
      "text/plain": [
       "(1.3901519284928516,\n",
       " 6.027029416008766,\n",
       " 480.15170231162534,\n",
       " 0.29861657126400837,\n",
       " 190.2322874318976,\n",
       " 0.0,\n",
       " 20.065328181940924,\n",
       " 0.0,\n",
       " 33.895,\n",
       " 13,\n",
       " 1,\n",
       " 1)"
      ]
     },
     "execution_count": 11,
     "metadata": {},
     "output_type": "execute_result"
    }
   ],
   "source": [
    "run_test_binary()"
   ]
  },
  {
   "cell_type": "code",
   "execution_count": 2,
   "metadata": {
    "collapsed": false
   },
   "outputs": [
    {
     "name": "stdout",
     "output_type": "stream",
     "text": [
      "Elapsed time: 22937.7498949 seconds\n"
     ]
    },
    {
     "name": "stderr",
     "output_type": "stream",
     "text": [
      "/home/andrews/Research/XRB/xrb/SF_history/sf_history.py:214: RuntimeWarning: invalid value encountered in log10\n",
      "  return sfh[index](np.log10(t_b*1.0e6))\n"
     ]
    }
   ],
   "source": [
    "start = time.time()\n",
    "\n",
    "c.sf_scheme = \"SMC\"\n",
    "sampler = stats.run_emcee_population(nburn=10000, nsteps=10000, nwalkers=80, binary_scheme='binary_c')\n",
    "\n",
    "end = time.time()\n",
    "\n",
    "print \"Elapsed time:\", end-start, \"seconds\""
   ]
  },
  {
   "cell_type": "code",
   "execution_count": null,
   "metadata": {
    "collapsed": false
   },
   "outputs": [],
   "source": []
  },
  {
   "cell_type": "code",
   "execution_count": null,
   "metadata": {
    "collapsed": true
   },
   "outputs": [],
   "source": []
  },
  {
   "cell_type": "code",
   "execution_count": null,
   "metadata": {
    "collapsed": true
   },
   "outputs": [],
   "source": [
    "pickle.dump(sampler, open(\"../data/SMC_sampler.obj\", \"wb\"))"
   ]
  },
  {
   "cell_type": "code",
   "execution_count": 2,
   "metadata": {
    "collapsed": false
   },
   "outputs": [],
   "source": [
    "sampler = pickle.load(open(\"../data/SMC_sampler.obj\", \"rb\"))"
   ]
  },
  {
   "cell_type": "code",
   "execution_count": 4,
   "metadata": {
    "collapsed": false
   },
   "outputs": [
    {
     "name": "stdout",
     "output_type": "stream",
     "text": [
      "(80, 20000, 10)\n",
      "M1 379.850331993 4668.80463638\n",
      "M2 677.161025742 3981.76058153\n",
      "a 788.796620423 4152.31612535\n",
      "e 192.850236877 3642.52596855\n",
      "v_k 753.679194848 2891.49557333\n",
      "theta_k 591.369945843 3481.50613504\n",
      "phi_k 162.619850521 2430.62163611\n",
      "RA 813.155813973 3965.25318047\n",
      "Dec 360.801737748 2909.39653321\n",
      "time 917.588508163 3329.89002425\n"
     ]
    }
   ],
   "source": [
    "print sampler.chain.shape\n",
    "\n",
    "\n",
    "var_names = [\"M1\",\"M2\",\"a\",\"e\",\"v_k\",\"theta_k\",\"phi_k\",\"RA\",\"Dec\",\"time\"]\n",
    "\n",
    "for i in np.arange(10):\n",
    "    print var_names[i], acor.acor(sampler.flatchain.T[i,360000:380000])[0], acor.acor(sampler.flatchain.T[i])[0]"
   ]
  },
  {
   "cell_type": "code",
   "execution_count": null,
   "metadata": {
    "collapsed": true
   },
   "outputs": [],
   "source": []
  },
  {
   "cell_type": "code",
   "execution_count": null,
   "metadata": {
    "collapsed": false,
    "scrolled": true
   },
   "outputs": [],
   "source": [
    "for i in range(sampler.dim):\n",
    "    plt.figure()\n",
    "    for chain in sampler.chain[...,i]:\n",
    "        plt.plot(chain, alpha=0.25, color='k', drawstyle='steps')\n",
    "        \n",
    "plt.show()"
   ]
  },
  {
   "cell_type": "code",
   "execution_count": null,
   "metadata": {
    "collapsed": false
   },
   "outputs": [],
   "source": [
    "c.sf_scheme = \"SMC\"\n",
    "\n",
    "# Corner plot\n",
    "fontProperties = {'family':'serif', 'serif':['Times New Roman'], 'weight':'normal', 'size':12}\n",
    "ticks_font = font_manager.FontProperties(family='Times New Roman', style='normal', \\\n",
    "                                         weight='normal', stretch='normal', size=12)\n",
    "plt.rc('font', **fontProperties)\n",
    "\n",
    "fig, ax = plt.subplots(10,10, figsize=(10,10))\n",
    "\n",
    "\n",
    "labels = [r\"$M_{\\rm 1, i}\\ (M_{\\odot})$\", r\"$M_{\\rm 2, i}\\ (M_{\\odot})$\", r\"$a_{\\rm i}\\ (R_{\\odot})$\", \\\n",
    "          r\"$e_{\\rm i}$\", r\"$v_{\\rm k, i}\\ ({\\rm km}\\ {\\rm s}^{-1})$\", r\"$\\theta_{\\rm k}\\ ({\\rm rad.})$\", \\\n",
    "          r\"$\\phi_{\\rm k}\\ ({\\rm rad.})$\", r\"$\\alpha_{\\rm i}\\ ({\\rm deg.})$\", \\\n",
    "          r\"$\\delta_{\\rm i}\\ ({\\rm deg.}) $\", r\"$t_{\\rm i}\\ ({\\rm Myr})$\"]\n",
    "plt_range = ([5,35], [5.0,22], [0,5900], [0,1], [0,1200], [0,np.pi], [0,np.pi], [6,21], [-75,-71], [0,120])\n",
    "\n",
    "hist2d_kwargs = {\"plot_datapoints\" : False}\n",
    "fig = corner.corner(sampler.flatchain, fig=fig, labels=labels, range=plt_range, max_n_ticks=4, **hist2d_kwargs)\n",
    "\n",
    "ra_out = sampler.flatchain.T[7]\n",
    "dec_out = sampler.flatchain.T[8]\n",
    "gs = gridspec.GridSpec(2, 2,\n",
    "                       width_ratios=[3,2],\n",
    "                       height_ratios=[2,3]\n",
    "                       )\n",
    "smc_plot, ax1 = sf_history.get_SMC_plot_polar(20, fig_in=fig, gs=gs[1], ra_dist=ra_out, dec_dist=dec_out, \\\n",
    "                                              dist_bins=30, xwidth=2.0, ywidth=2.0, xgrid_density=6)\n",
    "\n",
    "\n",
    "ax1.set_position([0.55, 0.55, 0.3, 0.3])\n",
    "\n",
    "\n",
    "# Shift axis labels\n",
    "for i in np.arange(10):\n",
    "    ax[i,0].yaxis.set_label_coords(-0.5, 0.5)\n",
    "    ax[9,i].xaxis.set_label_coords(0.5, -0.5)\n",
    "\n",
    "\n",
    "plt.subplots_adjust(bottom=0.07, left=0.07, top=0.97)\n",
    "\n",
    "plt.savefig('../figures/population_smc.pdf', rasterized=True)\n",
    "# plt.show()"
   ]
  },
  {
   "cell_type": "code",
   "execution_count": 10,
   "metadata": {
    "collapsed": false
   },
   "outputs": [
    {
     "name": "stdout",
     "output_type": "stream",
     "text": [
      "1600000\n"
     ]
    }
   ],
   "source": [
    "print len(sampler.flatchain)"
   ]
  },
  {
   "cell_type": "code",
   "execution_count": 10,
   "metadata": {
    "collapsed": true
   },
   "outputs": [],
   "source": [
    "def get_evol_set(sampler):\n",
    "\n",
    "    N = len(sampler.flatchain)\n",
    "    N = 20000\n",
    "\n",
    "#     evol_set = np.array([], dtype='S')\n",
    "    evol_set = np.zeros(N, dtype='S150')\n",
    "\n",
    "    for i, sample_2 in zip(np.arange(N), sampler.flatchain):\n",
    "\n",
    "        if i > N: break\n",
    "        \n",
    "        sample = sampler.flatchain[i]    \n",
    "\n",
    "        m1, m2, a, ecc, v_k, theta_k, phi_k, alpha, delta, time = sample\n",
    "        P_orb = binary_evolve.A_to_P(m1, m2, a)\n",
    "\n",
    "\n",
    "        m1_out, m2_out, A_out, e_out, v_sys, L_x_out, tsn1, tsn2, k1_out, k2_out, comenv_count, evol_hist = \\\n",
    "                        binary_c.run_binary(m1, m2, P_orb, ecc, 0.008, time, v_k, theta_k, phi_k, v_k, theta_k, phi_k, 1)\n",
    "\n",
    "        evol_steps = evol_hist.split(\"\\n\")\n",
    "\n",
    "        evol_line = \"\"\n",
    "        n_comenv = \"0\"\n",
    "\n",
    "        for s in evol_steps:\n",
    "\n",
    "            if s.find(\"JEFF\") == 0:\n",
    "                data = s.split(\" \")\n",
    "                k1_before, k2_before, k1_after, k2_after = data[2], data[3], data[15], data[16]\n",
    "\n",
    "                if n_comenv != data[28]:\n",
    "                    evol_line = evol_line + \"(\" + str(k1_before) + \"-\" + str(k2_before) + \":CE:\" + str(k1_after) + \"-\" + str(k2_after) +  \")\"\n",
    "                    n_comenv = data[28]\n",
    "                else:\n",
    "                    evol_line = evol_line + \"(\" + str(k1_before) + \"-\" + str(k2_before) + \":\" + str(k1_after) + \"-\" + str(k2_after) +  \")\"\n",
    "\n",
    "        evol_set[i] = evol_line\n",
    "#         evol_set = np.append(evol_set, evol_line)\n",
    "\n",
    "\n",
    "    return evol_set\n"
   ]
  },
  {
   "cell_type": "code",
   "execution_count": null,
   "metadata": {
    "collapsed": false,
    "scrolled": true
   },
   "outputs": [],
   "source": [
    "evol_set = get_evol_set(sampler)"
   ]
  },
  {
   "cell_type": "code",
   "execution_count": 9,
   "metadata": {
    "collapsed": false
   },
   "outputs": [
    {
     "name": "stdout",
     "output_type": "stream",
     "text": [
      "10000\n",
      "1500000\n",
      "['(1-1:2-1)(2-1:4-1)(4-1:7-1)(7-1:8-1)(8-1:13-1)'\n",
      " '(1-1:2-1)(2-1:4-1)(4-1:7-1)(7-1:8-1)(8-1:13-1)'\n",
      " '(1-1:2-1)(2-1:4-1)(4-1:7-1)(7-1:8-1)(8-1:13-1)' ...,\n",
      " '(1-1:2-1)(2-1:3-1)(3-1:CE:7-1)(7-1:8-1)(8-1:13-1)(13-1:13-2)(13-2:14-2)(14-2:14-3)(14-3:14-4)(14-4:14-7)'\n",
      " '(1-1:2-1)(2-1:3-1)(3-1:CE:7-1)(7-1:8-1)(8-1:13-1)(13-1:13-2)(13-2:14-2)(14-2:14-3)(14-3:14-4)(14-4:14-7)'\n",
      " '(1-1:2-1)(2-1:3-1)(3-1:CE:7-1)(7-1:8-1)(8-1:13-1)(13-1:13-2)(13-2:14-2)(14-2:14-3)(14-3:14-4)(14-4:14-7)']\n"
     ]
    }
   ],
   "source": [
    "# print evol_set\n",
    "print len(evol_set)\n",
    "print evol_set.nbytes\n",
    "\n",
    "print evol_set"
   ]
  },
  {
   "cell_type": "code",
   "execution_count": null,
   "metadata": {
    "collapsed": true
   },
   "outputs": [],
   "source": [
    "pickle.dump(evol_set, open(\"../data/SMC_evol_set.obj\", \"wb\"))"
   ]
  },
  {
   "cell_type": "code",
   "execution_count": 25,
   "metadata": {
    "collapsed": false
   },
   "outputs": [],
   "source": [
    "evol_set = pickle.load(open(\"../data/SMC_evol_set.obj\", \"rb\"))\n",
    "\n",
    "# hists, n_hists = np.unique(evol_set, return_counts=True)\n",
    "\n",
    "# idx = np.argsort(n_hists)[::-1]\n",
    "# for i in np.arange(len(hists)):\n",
    "#     print n_hists[idx[i]], hists[idx[i]]\n"
   ]
  },
  {
   "cell_type": "code",
   "execution_count": null,
   "metadata": {
    "collapsed": true
   },
   "outputs": [],
   "source": [
    "def generate_corner_plot(posteriors, filename=False):\n",
    "\n",
    "    # Corner plot\n",
    "    fontProperties = {'family':'serif', 'serif':['Times New Roman'], 'weight':'normal', 'size':12}\n",
    "    ticks_font = font_manager.FontProperties(family='Times New Roman', style='normal', \\\n",
    "                                             weight='normal', stretch='normal', size=12)\n",
    "    plt.rc('font', **fontProperties)\n",
    "\n",
    "    fig, ax = plt.subplots(10,10, figsize=(10,10))\n",
    "\n",
    "\n",
    "    labels = [r\"$M_{\\rm 1, i}\\ (M_{\\odot})$\", r\"$M_{\\rm 2, i}\\ (M_{\\odot})$\", r\"$a_{\\rm i}\\ (R_{\\odot})$\", \\\n",
    "              r\"$e_{\\rm i}$\", r\"$v_{\\rm k, i}\\ ({\\rm km}\\ {\\rm s}^{-1})$\", r\"$\\theta_{\\rm k}\\ ({\\rm rad.})$\", \\\n",
    "              r\"$\\phi_{\\rm k}\\ ({\\rm rad.})$\", r\"$\\alpha_{\\rm i}\\ ({\\rm deg.})$\", \\\n",
    "              r\"$\\delta_{\\rm i}\\ ({\\rm deg.}) $\", r\"$t_{\\rm i}\\ ({\\rm Myr})$\"]\n",
    "    plt_range = ([5,35], [2.5,22], [0,5900], [0,1], [0,1200], [0,np.pi], [0,np.pi], [6,21], [-75,-71], [0,120])\n",
    "\n",
    "    hist2d_kwargs = {\"plot_datapoints\" : False}\n",
    "    fig = corner.corner(posteriors, fig=fig, labels=labels, range=plt_range, max_n_ticks=4, **hist2d_kwargs)\n",
    "\n",
    "    ra_out = posteriors.T[7]\n",
    "    dec_out = posteriors.T[8]\n",
    "    gs = gridspec.GridSpec(2, 2,\n",
    "                           width_ratios=[3,2],\n",
    "                           height_ratios=[2,3]\n",
    "                           )\n",
    "    smc_plot, ax1 = sf_history.get_SMC_plot_polar(40, fig_in=fig, gs=gs[1], ra_dist=ra_out, dec_dist=dec_out, \\\n",
    "                                                  dist_bins=30, xwidth=2.0, ywidth=2.0, xgrid_density=6)\n",
    "\n",
    "\n",
    "    ax1.set_position([0.55, 0.55, 0.3, 0.3])\n",
    "\n",
    "\n",
    "    # Shift axis labels\n",
    "    for i in np.arange(10):\n",
    "        ax[i,0].yaxis.set_label_coords(-0.5, 0.5)\n",
    "        ax[9,i].xaxis.set_label_coords(0.5, -0.5)\n",
    "\n",
    "\n",
    "    plt.subplots_adjust(bottom=0.07, left=0.07, top=0.97)\n",
    "\n",
    "    if filename is True:\n",
    "        plt.savefig(filename, rasterized=True)\n",
    "    else:\n",
    "        plt.show()\n",
    "    "
   ]
  },
  {
   "cell_type": "code",
   "execution_count": null,
   "metadata": {
    "collapsed": false,
    "scrolled": true
   },
   "outputs": [],
   "source": [
    "# print evol_set[:].endswith(\"13-1)\")\n",
    "\n",
    "# Separate in CE vs. non CE systems\n",
    "idx_non_CE = np.char.find(evol_set, \"CE\") == -1\n",
    "idx_CE = np.char.find(evol_set, \"CE\") != -1\n",
    "idx_CE_one = np.char.count(evol_set, \"CE\") == 1\n",
    "idx_CE_two = np.char.count(evol_set, \"CE\") == 2\n",
    "idx_CE_AGB = np.char.find(evol_set, \"5-1:CE\") != -1\n",
    "idx_CE_GB = np.char.find(evol_set, \"3-1:CE\") != -1\n",
    "idx_CE_postGB = np.logical_or(np.char.find(evol_set, \"4-1:CE\") != -1, np.char.find(evol_set, \"5-1:CE\") != -1)\n",
    "\n",
    "evol_non_CE = sampler.flatchain[idx_non_CE]\n",
    "evol_CE = sampler.flatchain[idx_CE]\n",
    "evol_CE_one = sampler.flatchain[idx_CE_one]\n",
    "evol_CE_two = sampler.flatchain[idx_CE_two]\n",
    "evol_CE_AGB = sampler.flatchain[idx_CE_AGB]\n",
    "evol_CE_GB = sampler.flatchain[idx_CE_GB]\n",
    "evol_CE_postGB = sampler.flatchain[idx_CE_postGB]\n",
    "\n",
    "\n",
    "# Donor types\n",
    "idx_MS_donor = np.char.endswith(evol_set, \"-1)\")\n",
    "idx_HG_donor = np.char.endswith(evol_set, \"-2)\")\n",
    "idx_RG_donor = np.char.endswith(evol_set, \"-3)\")\n",
    "idx_HB_donor = np.char.endswith(evol_set, \"-4)\")\n",
    "idx_FAGB_donor = np.char.endswith(evol_set, \"-5)\")\n",
    "idx_SAGB_donor = np.char.endswith(evol_set, \"-6)\")\n",
    "idx_NMS_donor = np.char.endswith(evol_set, \"-7)\")\n",
    "idx_NHG_donor = np.char.endswith(evol_set, \"-8)\")\n",
    "idx_NGB_donor = np.char.endswith(evol_set, \"-9)\")\n",
    "idx_HeWD_donor = np.char.endswith(evol_set, \"-10)\")\n",
    "idx_COWD_donor = np.char.endswith(evol_set, \"-11)\")\n",
    "idx_ONeWD_donor = np.char.endswith(evol_set, \"-12)\")\n",
    "\n",
    "evol_MS_donor = sampler.flatchain[idx_MS_donor]\n",
    "evol_HG_donor = sampler.flatchain[idx_HG_donor]\n",
    "evol_RG_donor = sampler.flatchain[idx_RG_donor]\n",
    "evol_HB_donor = sampler.flatchain[idx_HB_donor]\n",
    "evol_FAGB_donor = sampler.flatchain[idx_FAGB_donor]\n",
    "evol_SAGB_donor = sampler.flatchain[idx_SAGB_donor]\n",
    "evol_NMS_donor = sampler.flatchain[idx_NMS_donor]\n",
    "evol_NHG_donor = sampler.flatchain[idx_NHG_donor]\n",
    "evol_NGB_donor = sampler.flatchain[idx_NGB_donor]\n",
    "evol_HeWD_donor = sampler.flatchain[idx_HeWD_donor]\n",
    "evol_COWD_donor = sampler.flatchain[idx_COWD_donor]\n",
    "evol_ONeWD_donor = sampler.flatchain[idx_ONeWD_donor]\n",
    "\n",
    "\n",
    "print \"MS Donors:\", len(evol_MS_donor)\n",
    "print \"HG Donors:\", len(evol_HG_donor)\n",
    "print \"RG Donors:\", len(evol_RG_donor)\n",
    "print \"HB Donors:\", len(evol_HB_donor)\n",
    "print \"FAGB Donors:\", len(evol_FAGB_donor)\n",
    "print \"SAGB Donors:\", len(evol_SAGB_donor)\n",
    "print \"NMS Donors:\", len(evol_NMS_donor)\n",
    "print \"NHG Donors:\", len(evol_NHG_donor)\n",
    "print \"NGB Donors:\", len(evol_NGB_donor)\n",
    "print \"HeWD Donors:\", len(evol_HeWD_donor)\n",
    "print \"COWD Donors:\", len(evol_COWD_donor)\n",
    "print \"ONeWD Donors:\", len(evol_ONeWD_donor)\n",
    "print \"\"\n",
    "\n",
    "\n",
    "idx_MS_CE_donor = np.logical_and(np.char.endswith(evol_set, \"-1)\"), np.char.find(evol_set, \"CE\") != -1)\n",
    "idx_MS_non_CE_donor = np.logical_and(np.char.endswith(evol_set, \"-1)\"), np.char.find(evol_set, \"CE\") == -1)\n",
    "idx_HB_CE_donor = np.logical_and(np.char.endswith(evol_set, \"-4)\"), np.char.find(evol_set, \"CE\") != -1)\n",
    "idx_HB_non_CE_donor = np.logical_and(np.char.endswith(evol_set, \"-4)\"), np.char.find(evol_set, \"CE\") == -1)\n",
    "idx_NMS_CE_donor = np.logical_and(np.char.endswith(evol_set, \"-7)\"), np.char.find(evol_set, \"CE\") != -1)\n",
    "idx_NMS_non_CE_donor = np.logical_and(np.char.endswith(evol_set, \"-7)\"), np.char.find(evol_set, \"CE\") == -1)\n",
    "\n",
    "evol_MS_CE_donor = sampler.flatchain[idx_MS_CE_donor]\n",
    "evol_MS_non_CE_donor = sampler.flatchain[idx_MS_non_CE_donor]\n",
    "evol_HB_CE_donor = sampler.flatchain[idx_HB_CE_donor]\n",
    "evol_HB_non_CE_donor = sampler.flatchain[idx_HB_non_CE_donor]\n",
    "evol_NMS_CE_donor = sampler.flatchain[idx_NMS_CE_donor]\n",
    "evol_NMS_non_CE_donor = sampler.flatchain[idx_NMS_non_CE_donor]\n",
    "\n",
    "\n",
    "\n",
    "print \"MS CE Donors:\", len(evol_MS_CE_donor)\n",
    "print \"MS nonCE Donors:\", len(evol_MS_non_CE_donor)\n",
    "print \"HB CE Donors:\", len(evol_HB_CE_donor)\n",
    "print \"HB nonCE Donors:\", len(evol_HB_non_CE_donor)\n",
    "print \"NMS CE Donors:\", len(evol_NMS_CE_donor)\n",
    "print \"NMS nonCE Donors:\", len(evol_NMS_non_CE_donor)\n"
   ]
  },
  {
   "cell_type": "code",
   "execution_count": 123,
   "metadata": {
    "collapsed": false
   },
   "outputs": [
    {
     "name": "stdout",
     "output_type": "stream",
     "text": [
      "194349\n",
      "138295\n",
      "56054\n",
      "121826\n",
      "154692\n"
     ]
    }
   ],
   "source": [
    "print len(evol_CE)\n",
    "print len(evol_CE_one)\n",
    "print len(evol_CE_two)\n",
    "\n",
    "print len(evol_CE_AGB)\n",
    "print len(evol_CE_GB)"
   ]
  },
  {
   "cell_type": "code",
   "execution_count": null,
   "metadata": {
    "collapsed": false
   },
   "outputs": [],
   "source": [
    "generate_corner_plot(evol_CE_AGB, filename=\"../data/SMC_corner_CE_AGB.pdf\")"
   ]
  },
  {
   "cell_type": "code",
   "execution_count": null,
   "metadata": {
    "collapsed": false
   },
   "outputs": [],
   "source": [
    "generate_corner_plot(evol_CE_GB, filename=\"../data/SMC_corner_CE_GB.pdf\")"
   ]
  },
  {
   "cell_type": "code",
   "execution_count": null,
   "metadata": {
    "collapsed": false
   },
   "outputs": [],
   "source": [
    "generate_corner_plot(evol_CE_postGB, filename=\"../data/SMC_corner_CE_postGB.pdf\")"
   ]
  },
  {
   "cell_type": "code",
   "execution_count": null,
   "metadata": {
    "collapsed": false
   },
   "outputs": [],
   "source": [
    "generate_corner_plot(evol_CE_two, filename=\"../data/SMC_corner_CE_two.pdf\")"
   ]
  },
  {
   "cell_type": "code",
   "execution_count": null,
   "metadata": {
    "collapsed": false
   },
   "outputs": [],
   "source": [
    "generate_corner_plot(evol_non_CE, filename=\"../data/SMC_corner_non_CE.pdf\")"
   ]
  },
  {
   "cell_type": "code",
   "execution_count": 108,
   "metadata": {
    "collapsed": false
   },
   "outputs": [
    {
     "name": "stdout",
     "output_type": "stream",
     "text": [
      "82114 (1-1:2-1)(2-1:4-1)(4-1:7-1)(7-1:8-1)(8-1:13-1)\n",
      "38922 (1-1:2-1)(2-1:4-1)(4-1:5-1)(5-1:CE:8-1)(8-1:13-1)\n",
      "26420 (1-1:2-1)(2-1:3-1)(3-1:CE:7-1)(7-1:8-1)(8-1:13-1)\n",
      "24184 (1-1:2-1)(2-1:4-1)(4-1:CE:7-1)(7-1:8-1)(8-1:13-1)\n",
      "20898 (1-1:2-1)(2-1:3-1)(3-1:4-1)(4-1:5-1)(5-1:CE:8-1)(8-1:13-1)\n",
      "16109 (1-1:2-1)(2-1:3-1)(3-1:4-1)(4-1:5-1)(5-1:CE:8-1)(8-1:13-1)(13-1:13-2)(13-2:13-3)(13-3:CE:13-7)\n",
      "13461 (1-1:2-1)(2-1:3-1)(3-1:4-1)(4-1:7-1)(7-1:8-1)(8-1:13-1)\n",
      "11276 (1-1:2-1)(2-1:4-1)(4-1:5-1)(5-1:CE:8-1)(8-1:13-1)(13-1:13-2)(13-2:13-3)(13-3:CE:13-7)\n",
      "7091 (1-1:2-1)(2-1:3-1)(3-1:4-1)(4-1:5-1)(5-1:CE:8-1)(8-1:13-1)(13-1:13-2)(13-2:CE:13-7)\n",
      "6452 (1-1:2-1)(2-1:3-1)(3-1:4-1)(4-1:5-1)(5-1:13-1)(13-1:13-2)(13-2:13-3)(13-3:13-4)\n",
      "5463 (1-1:2-1)(2-1:4-1)(4-1:5-1)(5-1:CE:8-1)(8-1:13-1)(13-1:13-2)(13-2:CE:13-7)\n",
      "4017 (1-1:2-1)(2-1:3-1)(3-1:4-1)(4-1:5-1)(5-1:13-1)\n",
      "3693 (1-1:2-1)(2-1:4-1)(4-1:7-1)(7-1:8-1)(8-1:13-1)(13-1:13-2)(13-2:13-4)\n",
      "3441 (1-1:2-1)(2-1:CE:7-1)(7-1:8-1)(8-1:13-1)\n",
      "3310 (1-1:2-1)(2-1:4-1)(4-1:CE:7-1)(7-1:8-1)(8-1:13-1)(13-1:13-2)(13-2:13-3)(13-3:CE:13-7)\n",
      "2832 (1-1:4-1)(4-1:5-1)(5-1:CE:8-1)(8-1:13-1)\n",
      "2575 (1-1:2-1)(2-1:4-1)(4-1:5-1)(5-1:13-1)\n",
      "2382 (1-1:2-1)(2-1:3-1)(3-1:CE:7-1)(7-1:8-1)(8-1:13-1)(13-1:13-2)(13-2:14-2)(14-2:14-3)(14-3:14-7)\n",
      "2105 (1-1:2-1)(2-1:7-1)(7-1:8-1)(8-1:14-1)\n",
      "1639 (1-1:2-1)(2-1:4-1)(4-1:5-1)(5-1:CE:8-1)(8-1:13-1)(13-1:13-2)(13-2:13-3)(13-3:13-4)\n",
      "1622 (1-1:2-1)(2-1:4-1)(4-1:7-1)(7-1:8-1)(8-1:13-1)(13-1:13-2)(13-2:13-4)(13-4:CE:13-7)(13-7:14-7)\n",
      "1555 (1-1:2-1)(2-1:4-1)(4-1:CE:7-1)(7-1:8-1)(8-1:13-1)(13-1:13-2)(13-2:14-2)(14-2:14-3)(14-3:14-4)(14-4:14-7)\n",
      "1530 (1-1:4-1)(4-1:5-1)(5-1:CE:8-1)(8-1:13-1)(13-1:13-2)(13-2:13-3)(13-3:CE:13-7)\n",
      "1352 (1-1:2-1)(2-1:3-1)(3-1:CE:7-1)(7-1:8-1)(8-1:13-1)(13-1:13-2)(13-2:14-2)(14-2:14-3)(14-3:14-4)(14-4:14-7)\n",
      "1338 (1-1:2-1)(2-1:4-1)(4-1:5-1)(5-1:CE:8-1)(8-1:13-1)(13-1:13-4)\n",
      "1300 (1-1:4-1)(4-1:5-1)(5-1:CE:8-1)(8-1:12-1)(12-1:12-2)(12-2:13-2)(13-2:14-2)(14-2:14-3)(14-3:CE:14-7)\n",
      "1296 (1-1:2-1)(2-1:4-1)(4-1:5-1)(5-1:14-1)\n",
      "1177 (1-1:2-1)(2-1:3-1)(3-1:4-1)(4-1:5-1)(5-1:CE:8-1)(8-1:13-1)(13-1:13-2)(13-2:13-3)(13-3:CE:13-7)(13-7:13-8)\n",
      "1160 (1-1:2-1)(2-1:4-1)(4-1:7-1)(7-1:8-1)(8-1:14-1)\n",
      "1126 (1-1:4-1)(4-1:7-1)(7-1:8-1)(8-1:13-1)\n",
      "1048 (1-1:2-1)(2-1:4-1)(4-1:5-1)(5-1:CE:8-1)(8-1:13-1)(13-1:13-2)(13-2:13-4)(13-4:CE:13-7)(13-7:14-7)\n",
      "1028 (1-1:2-1)(2-1:7-1)(7-1:8-1)(8-1:13-1)\n",
      "985 (1-1:2-1)(2-1:3-1)(3-1:4-1)(4-1:5-1)(5-1:CE:8-1)(8-1:13-1)(13-1:13-2)(13-2:13-3)(13-3:13-4)\n",
      "921 (1-1:2-1)(2-1:4-1)(4-1:5-1)(5-1:CE:8-1)(8-1:13-1)(13-1:13-2)(13-2:CE:13-7)(13-7:14-7)\n",
      "810 (1-1:2-1)(2-1:4-1)(4-1:CE:7-1)(7-1:8-1)(8-1:13-1)(13-1:13-2)(13-2:14-2)(14-2:14-3)(14-3:14-7)\n",
      "771 (1-1:2-1)(2-1:3-1)(3-1:4-1)(4-1:5-1)(5-1:CE:8-1)(8-1:13-1)(13-1:13-2)\n",
      "739 (1-1:2-1)(2-1:4-1)(4-1:7-1)(7-1:8-1)(8-1:13-1)(13-1:13-2)(13-2:13-4)(13-4:CE:13-7)\n",
      "699 (1-1:2-1)(2-1:3-1)(3-1:4-1)(4-1:5-1)(5-1:CE:8-1)(8-1:13-1)(13-1:13-4)\n",
      "692 (1-1:2-1)(2-1:4-1)(4-1:5-1)(5-1:CE:8-1)(8-1:13-1)(13-1:13-2)(13-2:13-4)\n",
      "673 (1-1:2-1)(2-1:4-1)(4-1:5-1)(5-1:13-1)(13-1:13-2)(13-2:13-4)\n",
      "645 (1-1:2-1)(2-1:4-1)(4-1:5-1)(5-1:CE:8-1)(8-1:13-1)(13-1:13-2)(13-2:13-3)(13-3:CE:13-7)(13-7:13-8)\n",
      "618 (1-1:4-1)(4-1:5-1)(5-1:13-1)(13-1:13-2)(13-2:13-3)(13-3:13-4)\n",
      "598 (1-1:4-1)(4-1:5-1)(5-1:CE:8-1)(8-1:13-1)(13-1:13-2)(13-2:CE:13-7)\n",
      "591 (1-1:4-1)(4-1:CE:7-1)(7-1:8-1)(8-1:13-1)\n",
      "544 (1-1:2-1)(2-1:3-1)(3-1:4-1)(4-1:5-1)(5-1:CE:8-1)(8-1:12-1)(12-1:12-2)(12-2:13-2)(13-2:13-3)(13-3:CE:13-7)\n",
      "528 (1-1:2-1)(2-1:4-1)(4-1:5-1)(5-1:8-1)(8-1:13-1)\n",
      "509 (1-1:2-1)(2-1:3-1)(3-1:4-1)(4-1:5-1)(5-1:CE:8-1)(8-1:13-1)(13-1:13-2)(13-2:CE:13-7)(13-7:13-8)\n",
      "500 (1-1:CE:7-1)(7-1:8-1)(8-1:13-1)\n",
      "478 (1-1:2-1)(2-1:3-1)(3-1:4-1)(4-1:4-2)(4-2:4-3)(4-3:4-4)(4-4:5-4)(5-4:13-4)\n",
      "462 (1-1:2-1)(2-1:3-1)(3-1:4-1)(4-1:5-1)(5-1:CE:8-1)(8-1:13-1)(13-1:13-2)(13-2:CE:13-7)(13-7:14-7)\n",
      "421 (1-1:2-1)(2-1:3-1)(3-1:CE:7-1)(7-1:8-1)(8-1:12-1)(12-1:12-2)(12-2:13-2)(13-2:14-2)(14-2:14-3)(14-3:14-4)(14-4:14-7)\n",
      "399 (1-1:2-1)(2-1:4-1)(4-1:5-1)(5-1:13-1)(13-1:13-2)(13-2:13-3)(13-3:13-4)\n",
      "375 (1-1:2-1)(2-1:3-1)(3-1:4-1)(4-1:5-1)(5-1:13-1)(13-1:13-2)(13-2:13-3)(13-3:13-4)(13-4:13-5)\n",
      "374 (1-1:2-1)(2-1:4-1)(4-1:5-1)(5-1:CE:8-1)(8-1:14-1)\n",
      "370 (1-1:4-1)(4-1:5-1)(5-1:13-1)\n",
      "356 (1-1:4-1)(4-1:5-1)(5-1:CE:8-1)(8-1:13-1)(13-1:13-2)(13-2:13-4)(13-4:CE:13-7)(13-7:14-7)\n",
      "356 (1-1:2-1)(2-1:3-1)(3-1:CE:7-1)(7-1:8-1)(8-1:13-1)(13-1:13-2)\n",
      "355 (1-1:2-1)(2-1:CE:7-1)(7-1:8-1)(8-1:13-1)(13-1:13-2)(13-2:14-2)(14-2:14-3)(14-3:14-4)(14-4:14-7)\n",
      "331 (1-1:2-1)(2-1:4-1)(4-1:5-1)(5-1:CE:8-1)(8-1:13-1)(13-1:13-2)(13-2:CE:13-7)(13-7:13-8)\n",
      "330 (1-1:2-1)(2-1:4-1)(4-1:5-1)(5-1:14-1)(14-1:14-2)(14-2:14-4)\n",
      "317 (1-1:2-1)(2-1:7-1)(7-1:8-1)(8-1:14-1)(14-1:14-2)(14-2:14-4)\n",
      "298 (1-1:2-1)(2-1:4-1)(4-1:5-1)(5-1:CE:13-1)\n",
      "289 (1-1:2-1)(2-1:3-1)(3-1:4-1)(4-1:5-1)(5-1:13-1)(13-1:13-4)\n",
      "278 (1-1:4-1)(4-1:5-1)(5-1:CE:8-1)(8-1:12-1)(12-1:12-2)(12-2:13-2)(13-2:13-3)(13-3:CE:13-7)(13-7:13-8)\n",
      "272 (1-1:2-1)(2-1:4-1)(4-1:5-1)(5-1:CE:8-1)(8-1:13-1)(13-1:13-2)(13-2:13-4)(13-4:CE:13-7)\n",
      "265 (1-1:2-1)(2-1:4-1)(4-1:5-1)(5-1:CE:8-1)(8-1:13-1)(13-1:13-2)\n",
      "262 (1-1:2-1)(2-1:4-1)(4-1:CE:7-1)(7-1:8-1)(8-1:13-1)(13-1:14-1)(14-1:14-2)\n",
      "257 (1-1:4-1)(4-1:CE:7-1)(7-1:8-1)(8-1:14-1)\n",
      "242 (1-1:2-1)(2-1:4-1)(4-1:CE:7-1)(7-1:8-1)(8-1:13-1)(13-1:13-2)(13-2:13-3)(13-3:CE:13-7)(13-7:13-8)\n",
      "238 (1-1:2-1)(2-1:4-1)(4-1:5-1)(5-1:CE:14-1)\n",
      "221 (1-1:2-1)(2-1:4-1)(4-1:CE:7-1)(7-1:8-1)(8-1:13-1)(13-1:13-2)(13-2:14-2)(14-2:14-3)(14-3:CE:14-7)\n",
      "220 (1-1:2-1)(2-1:3-1)(3-1:4-1)(4-1:7-1)(7-1:8-1)(8-1:9-1)(9-1:13-1)\n",
      "220 (1-1:2-1)(2-1:3-1)(3-1:4-1)(4-1:5-1)(5-1:CE:8-1)(8-1:13-1)(13-1:13-2)(13-2:14-2)(14-2:14-3)(14-3:CE:14-7)\n",
      "206 (1-1:2-1)(2-1:3-1)(3-1:CE:7-1)(7-1:8-1)(8-1:13-1)(13-1:13-4)\n",
      "190 (1-1:2-1)(2-1:3-1)(3-1:CE:7-1)(7-1:8-1)(8-1:12-1)(12-1:12-2)(12-2:13-2)(13-2:14-2)(14-2:14-3)(14-3:14-7)\n",
      "183 (1-1:2-1)(2-1:4-1)(4-1:CE:7-1)(7-1:8-1)(8-1:13-1)(13-1:13-2)(13-2:13-4)\n",
      "174 (1-1:2-1)(2-1:4-1)(4-1:7-1)(7-1:8-1)(8-1:13-1)(13-1:13-4)\n",
      "170 (1-1:2-1)(2-1:4-1)(4-1:CE:7-1)(7-1:8-1)(8-1:13-1)(13-1:13-2)\n",
      "169 (1-1:2-1)(2-1:3-1)(3-1:4-1)(4-1:7-1)(7-1:8-1)(8-1:13-1)(13-1:13-2)(13-2:13-4)\n",
      "168 (1-1:2-1)(2-1:CE:7-1)(7-1:8-1)(8-1:13-1)(13-1:13-2)(13-2:14-2)(14-2:14-3)(14-3:14-7)\n",
      "167 (1-1:2-1)(2-1:CE:7-1)(7-1:8-1)(8-1:13-1)(13-1:14-1)(14-1:14-2)\n",
      "164 (1-1:2-1)(2-1:3-1)(3-1:4-1)(4-1:5-1)(5-1:6-1)(6-1:13-1)(13-1:13-2)(13-2:13-3)(13-3:13-4)\n",
      "162 (1-1:2-1)(2-1:3-1)(3-1:4-1)(4-1:4-2)(4-2:4-3)(4-3:4-4)(4-4:5-4)(5-4:CE:8-7)(8-7:13-7)\n",
      "161 (1-1:4-1)(4-1:7-1)(7-1:8-1)(8-1:13-1)(13-1:13-2)(13-2:13-4)\n",
      "152 (1-1:CE:7-1)(7-1:8-1)(8-1:13-1)(13-1:13-2)(13-2:14-2)(14-2:14-3)(14-3:14-4)(14-4:14-7)\n",
      "143 (1-1:2-1)(2-1:3-1)(3-1:4-1)(4-1:5-1)(5-1:CE:8-1)(8-1:13-1)(13-1:13-3)(13-3:CE:13-7)\n",
      "141 (1-1:2-1)(2-1:3-1)(3-1:4-1)(4-1:5-1)(5-1:13-1)(13-1:13-2)\n",
      "138 (1-1:2-1)(2-1:CE:7-1)(7-1:8-1)(8-1:13-1)(13-1:14-1)(14-1:14-2)(14-2:14-3)\n",
      "133 (1-1:2-1)(2-1:4-1)(4-1:CE:7-1)(7-1:8-1)(8-1:13-1)(13-1:13-4)\n",
      "128 (1-1:2-1)(2-1:3-1)(3-1:CE:7-1)(7-1:8-1)(8-1:12-1)(12-1:12-2)(12-2:12-4)(12-4:CE:15-4)\n",
      "126 (1-1:2-1)(2-1:4-1)(4-1:CE:7-1)(7-1:8-1)(8-1:13-1)(13-1:CE:13-7)\n",
      "126 (1-1:2-1)(2-1:4-1)(4-1:7-1)(7-1:8-1)(8-1:13-1)(13-1:13-2)\n",
      "125 (1-1:2-1)(2-1:4-1)(4-1:5-1)(5-1:CE:8-1)(8-1:13-1)(13-1:13-4)(13-4:CE:13-7)\n",
      "125 (1-1:2-1)(2-1:4-1)(4-1:CE:7-1)(7-1:8-1)(8-1:13-1)(13-1:13-2)(13-2:13-4)(13-4:CE:13-7)(13-7:14-7)\n",
      "113 (1-1:4-1)(4-1:5-1)(5-1:CE:8-1)(8-1:12-1)(12-1:12-2)(12-2:13-2)(13-2:13-3)(13-3:CE:13-7)\n",
      "108 (1-1:4-1)(4-1:5-1)(5-1:CE:8-1)(8-1:13-1)(13-1:13-3)(13-3:CE:13-7)\n",
      "105 (1-1:2-1)(2-1:4-1)(4-1:CE:7-1)(7-1:8-1)(8-1:13-1)(13-1:14-1)\n",
      "102 (1-1:2-1)(2-1:4-1)(4-1:7-1)(7-1:8-1)(8-1:14-1)(14-1:14-2)(14-2:14-4)\n",
      "95 (1-1:2-1)(2-1:3-1)(3-1:4-1)(4-1:5-1)(5-1:CE:8-1)(8-1:13-1)(13-1:13-4)(13-4:CE:13-7)\n",
      "93 (1-1:2-1)(2-1:4-1)(4-1:5-1)(5-1:8-1)(8-1:13-1)(13-1:13-2)(13-2:13-4)\n",
      "90 (1-1:2-1)(2-1:3-1)(3-1:CE:7-1)(7-1:8-1)(8-1:13-1)(13-1:13-2)(13-2:14-2)(14-2:14-3)(14-3:14-4)(14-4:14-7)(14-7:14-8)\n",
      "90 (1-1:2-1)(2-1:4-1)(4-1:CE:7-1)(7-1:8-1)(8-1:13-1)(13-1:13-2)(13-2:CE:13-7)\n",
      "87 (1-1:2-1)(2-1:3-1)(3-1:CE:7-1)(7-1:8-1)(8-1:13-1)(13-1:13-2)(13-2:13-3)(13-3:CE:13-7)\n",
      "86 (1-1:2-1)(2-1:3-1)(3-1:4-1)(4-1:7-1)(7-1:8-1)(8-1:13-1)(13-1:13-4)\n",
      "83 (1-1:2-1)(2-1:7-1)(7-1:8-1)(8-1:13-1)(13-1:13-2)(13-2:13-4)\n",
      "82 (1-1:2-1)(2-1:4-1)(4-1:CE:7-1)(7-1:8-1)(8-1:14-1)\n",
      "78 (1-1:2-1)(2-1:3-1)(3-1:7-1)(7-1:8-1)(8-1:13-1)\n",
      "78 (1-1:2-1)(2-1:4-1)(4-1:CE:7-1)(7-1:8-1)(8-1:13-1)(13-1:13-3)(13-3:CE:13-7)\n",
      "77 (1-1:4-1)(4-1:5-1)(5-1:CE:8-1)(8-1:13-1)(13-1:13-2)(13-2:CE:13-7)(13-7:14-7)\n",
      "77 (1-1:2-1)(2-1:4-1)(4-1:5-1)(5-1:CE:8-1)(8-1:13-1)(13-1:13-3)(13-3:CE:13-7)\n",
      "69 (1-1:2-1)(2-1:3-1)(3-1:4-1)(4-1:5-1)(5-1:CE:8-1)(8-1:12-1)(12-1:12-2)(12-2:13-3)(13-3:CE:13-7)\n",
      "68 (1-1:2-1)(2-1:3-1)(3-1:4-1)(4-1:5-1)(5-1:CE:8-1)(8-1:9-1)(9-1:13-1)(13-1:13-2)(13-2:13-3)(13-3:CE:13-7)\n",
      "68 (1-1:4-1)(4-1:5-1)(5-1:CE:8-1)(8-1:13-1)(13-1:13-2)(13-2:13-3)(13-3:CE:13-7)(13-7:13-8)\n",
      "67 (1-1:4-1)(4-1:5-1)(5-1:13-1)(13-1:13-4)\n",
      "66 (1-1:2-1)(2-1:3-1)(3-1:4-1)(4-1:5-1)(5-1:CE:8-1)(8-1:13-1)(13-1:13-2)(13-2:13-3)\n",
      "64 (1-1:2-1)(2-1:4-1)(4-1:CE:7-1)(7-1:8-1)(8-1:13-1)(13-1:13-2)(13-2:CE:13-7)(13-7:14-7)\n",
      "64 (1-1:4-1)(4-1:5-1)(5-1:CE:8-1)(8-1:13-1)(13-1:13-2)\n",
      "63 (1-1:2-1)(2-1:4-1)(4-1:CE:7-1)(7-1:8-1)(8-1:13-1)(13-1:13-2)(13-2:14-2)(14-2:14-3)(14-3:14-4)(14-4:14-7)(14-7:14-8)\n",
      "62 (1-1:2-1)(2-1:CE:7-1)(7-1:8-1)(8-1:13-1)(13-1:13-2)(13-2:14-2)\n",
      "56 (1-1:2-1)(2-1:3-1)(3-1:4-1)(4-1:5-1)(5-1:CE:8-1)(8-1:13-1)(13-1:13-2)(13-2:14-2)(14-2:14-3)(14-3:14-4)(14-4:14-7)\n",
      "56 (1-1:2-1)(2-1:3-1)(3-1:4-1)(4-1:5-1)(5-1:13-1)(13-1:13-2)(13-2:13-3)\n",
      "55 (1-1:2-1)(2-1:CE:7-1)(7-1:8-1)(8-1:13-1)(13-1:14-1)(14-1:14-2)(14-2:14-3)(14-3:14-4)\n",
      "53 (1-1:2-1)(2-1:4-1)(4-1:4-2)(4-2:4-4)(4-4:5-4)(5-4:13-4)\n",
      "51 (1-1:2-1)(2-1:4-1)(4-1:5-1)(5-1:CE:8-1)(8-1:14-1)(14-1:14-2)(14-2:14-4)\n",
      "47 (1-1:2-1)(2-1:4-1)(4-1:4-2)(4-2:4-4)(4-4:5-4)(5-4:CE:8-7)(8-7:13-7)\n",
      "47 (1-1:2-1)(2-1:3-1)(3-1:4-1)(4-1:5-1)(5-1:CE:8-1)(8-1:9-1)(9-1:13-1)(13-1:13-2)(13-2:CE:13-7)\n",
      "47 (1-1:4-1)(4-1:5-1)(5-1:CE:8-1)(8-1:13-1)(13-1:13-4)\n",
      "44 (1-1:4-1)(4-1:7-1)(7-1:8-1)(8-1:13-1)(13-1:13-2)(13-2:13-4)(13-4:CE:13-7)\n",
      "43 (1-1:2-1)(2-1:4-1)(4-1:4-2)(4-2:4-4)(4-4:7-4)(7-4:8-4)(8-4:13-4)\n",
      "43 (1-1:2-1)(2-1:3-1)(3-1:4-1)(4-1:5-1)(5-1:CE:8-1)(8-1:12-1)(12-1:12-2)(12-2:13-2)(13-2:13-3)(13-3:CE:13-7)(13-7:13-8)\n",
      "42 (1-1:2-1)(2-1:3-1)(3-1:CE:7-1)(7-1:8-1)(8-1:12-1)(12-1:12-2)(12-2:13-2)(13-2:14-2)(14-2:14-3)(14-3:CE:14-7)\n",
      "42 (1-1:2-1)(2-1:4-1)(4-1:7-1)(7-1:8-1)(8-1:13-1)(13-1:13-2)(13-2:13-4)(13-4:CE:13-7)(13-7:14-7)(14-7:14-8)\n",
      "40 (1-1:4-1)(4-1:4-2)(4-2:4-3)(4-3:4-4)(4-4:5-4)(5-4:CE:8-7)(8-7:13-7)\n",
      "40 (1-1:2-1)(2-1:4-1)(4-1:5-1)(5-1:13-1)(13-1:13-2)\n",
      "38 (1-1:2-1)(2-1:4-1)(4-1:7-1)(7-1:8-1)(8-1:13-1)(13-1:13-4)(13-4:13-7)(13-7:13-8)\n",
      "38 (1-1:4-1)(4-1:5-1)(5-1:CE:8-1)(8-1:13-1)(13-1:13-2)(13-2:13-4)\n",
      "35 (1-1:2-1)(2-1:4-1)(4-1:7-1)(7-1:8-1)(8-1:13-1)(13-1:13-2)(13-2:13-4)(13-4:13-5)\n",
      "34 (1-1:2-1)(2-1:3-1)(3-1:4-1)(4-1:5-1)(5-1:5-2)(5-2:13-2)(13-2:13-3)(13-3:13-4)\n",
      "33 (1-1:2-1)(2-1:4-1)(4-1:CE:7-1)(7-1:8-1)(8-1:13-1)(13-1:13-2)(13-2:13-3)\n",
      "33 (1-1:4-1)(4-1:5-1)(5-1:5-2)(5-2:13-2)(13-2:13-3)(13-3:13-4)\n",
      "31 (1-1:2-1)(2-1:4-1)(4-1:5-1)(5-1:13-1)(13-1:13-4)\n",
      "31 (1-1:2-1)(2-1:CE:7-1)(7-1:8-1)(8-1:14-1)\n",
      "30 (1-1:2-1)(2-1:CE:7-1)(7-1:8-1)(8-1:13-1)(13-1:14-1)(14-1:14-2)(14-2:14-3)(14-3:14-4)(14-4:14-7)\n",
      "30 (1-1:2-1)(2-1:3-1)(3-1:4-1)(4-1:5-1)(5-1:CE:8-1)(8-1:13-1)(13-1:13-3)(13-3:CE:13-7)(13-7:13-8)\n",
      "29 (1-1:2-1)(2-1:4-1)(4-1:CE:7-1)(7-1:8-1)(8-1:13-1)(13-1:13-2)(13-2:14-2)(14-2:14-3)(14-3:CE:14-7)(14-7:14-8)\n",
      "28 (1-1:2-1)(2-1:4-1)(4-1:5-1)(5-1:CE:8-1)(8-1:13-1)(13-1:13-2)(13-2:13-3)(13-3:13-4)(13-4:13-5)(13-5:CE:13-8)\n",
      "28 (1-1:2-1)(2-1:3-1)(3-1:4-1)(4-1:5-1)(5-1:5-2)(5-2:5-3)(5-3:5-4)(5-4:13-4)\n",
      "28 (1-1:2-1)(2-1:3-1)(3-1:4-1)(4-1:5-1)(5-1:5-2)(5-2:5-3)(5-3:5-4)(5-4:CE:8-7)(8-7:13-7)\n",
      "27 (1-1:2-1)(2-1:4-1)(4-1:CE:7-1)(7-1:7-2)(7-2:7-4)(7-4:8-4)(8-4:13-4)\n",
      "26 (1-1:4-1)(4-1:5-1)(5-1:13-1)(13-1:13-2)\n",
      "26 (1-1:2-1)(2-1:4-1)(4-1:5-1)(5-1:CE:8-1)(8-1:13-1)(13-1:13-2)(13-2:13-3)(13-3:13-4)(13-4:13-5)\n",
      "25 (1-1:4-1)(4-1:4-2)(4-2:4-3)(4-3:4-4)(4-4:5-4)(5-4:13-4)\n",
      "25 (1-1:2-1)(2-1:3-1)(3-1:4-1)(4-1:4-2)(4-2:5-2)(5-2:5-3)(5-3:5-4)(5-4:13-4)\n",
      "24 (1-1:2-1)(2-1:3-1)(3-1:4-1)(4-1:5-1)(5-1:CE:8-1)(8-1:9-1)(9-1:13-1)\n",
      "24 (1-1:4-1)(4-1:5-1)(5-1:CE:8-1)(8-1:13-1)(13-1:13-2)(13-2:14-2)(14-2:14-3)(14-3:CE:14-7)\n",
      "23 (1-1:2-1)(2-1:3-1)(3-1:CE:7-1)(7-1:8-1)(8-1:13-1)(13-1:13-2)(13-2:14-2)(14-2:14-3)(14-3:CE:14-7)\n",
      "23 (1-1:4-1)(4-1:5-1)(5-1:CE:8-1)(8-1:13-1)(13-1:13-2)(13-2:CE:13-7)(13-7:13-8)\n",
      "22 (1-1:2-1)(2-1:4-1)(4-1:7-1)(7-1:8-1)(8-1:13-1)(13-1:13-4)(13-4:CE:13-7)\n",
      "22 (1-1:4-1)(4-1:5-1)(5-1:8-1)(8-1:13-1)\n",
      "22 (1-1:3-1)(3-1:4-1)(4-1:5-1)(5-1:CE:8-1)(8-1:13-1)(13-1:13-2)(13-2:13-3)(13-3:CE:13-7)\n",
      "20 (1-1:2-1)(2-1:4-1)(4-1:CE:7-1)(7-1:8-1)(8-1:13-1)(13-1:13-3)\n",
      "20 (1-1:2-1)(2-1:3-1)(3-1:CE:7-1)(7-1:8-1)(8-1:13-1)(13-1:13-2)(13-2:14-2)\n",
      "18 (1-1:2-1)(2-1:4-1)(4-1:5-1)(5-1:CE:8-1)(8-1:13-1)(13-1:13-2)(13-2:13-4)(13-4:CE:13-7)(13-7:13-8)\n",
      "17 (1-1:2-1)(2-1:4-1)(4-1:5-1)(5-1:CE:8-1)(8-1:13-1)(13-1:13-2)(13-2:13-3)\n",
      "16 (1-1:3-1)(3-1:4-1)(4-1:5-1)(5-1:CE:8-1)(8-1:13-1)\n",
      "15 (1-1:2-1)(2-1:3-1)(3-1:4-1)(4-1:7-1)(7-1:8-1)(8-1:9-1)(9-1:13-1)(13-1:13-2)(13-2:13-4)(13-4:CE:13-7)\n",
      "15 (1-1:2-1)(2-1:3-1)(3-1:4-1)(4-1:5-1)(5-1:CE:8-1)(8-1:13-1)(13-1:13-2)(13-2:13-3)(13-3:13-4)(13-4:CE:13-7)\n",
      "15 (1-1:4-1)(4-1:CE:7-1)(7-1:8-1)(8-1:13-1)(13-1:13-2)(13-2:14-3)(14-3:CE:14-7)\n",
      "15 (1-1:4-1)(4-1:CE:7-1)(7-1:8-1)(8-1:13-1)(13-1:13-2)(13-2:13-3)(13-3:CE:13-7)\n",
      "14 (1-1:4-1)(4-1:CE:8-1)(8-1:13-1)\n",
      "14 (1-1:2-1)(2-1:4-1)(4-1:CE:7-1)(7-1:8-1)(8-1:13-1)(13-1:13-4)(13-4:CE:13-7)\n",
      "14 (1-1:2-1)(2-1:3-1)(3-1:4-1)(4-1:5-1)(5-1:CE:13-1)(13-1:13-2)(13-2:13-3)(13-3:CE:13-7)\n",
      "13 (1-1:2-1)(2-1:3-1)(3-1:4-1)(4-1:7-1)(7-1:8-1)(8-1:9-1)(9-1:13-1)(13-1:13-2)(13-2:13-4)\n",
      "13 (1-1:2-1)(2-1:4-1)(4-1:5-1)(5-1:CE:13-1)(13-1:13-2)(13-2:13-4)\n",
      "13 (1-1:2-1)(2-1:4-1)(4-1:5-1)(5-1:CE:8-1)(8-1:13-1)(13-1:13-2)(13-2:13-3)(13-3:CE:13-7)(13-7:13-8)(13-8:14-8)\n",
      "13 (1-1:2-1)(2-1:4-1)(4-1:5-1)(5-1:CE:14-1)(14-1:14-2)\n",
      "12 (1-1:2-1)(2-1:4-1)(4-1:7-1)(7-1:8-1)(8-1:13-1)(13-1:13-2)(13-2:13-4)(13-4:CE:13-7)(13-7:13-8)\n",
      "12 (1-1:3-1)(3-1:4-1)(4-1:5-1)(5-1:13-1)(13-1:13-2)(13-2:13-3)(13-3:13-4)\n",
      "12 (1-1:2-1)(2-1:3-1)(3-1:CE:7-1)(7-1:8-1)(8-1:13-1)(13-1:13-2)(13-2:14-2)(14-2:14-3)\n",
      "11 (1-1:4-1)(4-1:5-1)(5-1:CE:8-1)(8-1:13-1)(13-1:13-2)(13-2:13-3)(13-3:13-4)\n",
      "11 (1-1:3-1)(3-1:4-1)(4-1:5-1)(5-1:13-1)\n",
      "11 (1-1:2-1)(2-1:4-1)(4-1:CE:7-1)(7-1:8-1)(8-1:13-1)(13-1:13-3)(13-3:CE:13-7)(13-7:13-8)\n",
      "10 (1-1:2-1)(2-1:4-1)(4-1:CE:7-1)(7-1:8-1)(8-1:13-1)(13-1:14-1)(14-1:14-2)(14-2:14-3)\n",
      "10 (1-1:2-1)(2-1:4-1)(4-1:5-1)(5-1:CE:8-1)(8-1:13-1)(13-1:13-4)(13-4:13-5)(13-5:CE:13-8)\n",
      "10 (1-1:2-1)(2-1:4-1)(4-1:7-1)(7-1:8-1)(8-1:13-1)(13-1:13-4)(13-4:CE:13-7)(13-7:13-8)\n",
      "10 (1-1:2-1)(2-1:3-1)(3-1:CE:7-1)(7-1:8-1)(8-1:13-1)(13-1:13-2)(13-2:14-2)(14-2:14-3)(14-3:14-7)(14-7:14-8)\n",
      "10 (1-1:2-1)(2-1:4-1)(4-1:5-1)(5-1:13-1)(13-1:13-2)(13-2:13-4)(13-4:13-5)\n",
      "9 (1-1:2-1)(2-1:3-1)(3-1:4-1)(4-1:5-1)(5-1:5-2)(5-2:5-3)(5-3:13-3)(13-3:13-4)\n",
      "9 (1-1:2-1)(2-1:3-1)(3-1:4-1)(4-1:5-1)(5-1:CE:8-1)(8-1:13-1)(13-1:13-2)(13-2:14-3)(14-3:CE:14-7)\n",
      "8 (1-1:2-1)(2-1:4-1)(4-1:5-1)(5-1:CE:8-1)(8-1:13-1)(13-1:13-3)(13-3:13-4)\n",
      "8 (1-1:2-1)(2-1:4-1)(4-1:CE:7-1)(7-1:8-1)(8-1:13-1)(13-1:13-2)(13-2:14-3)(14-3:CE:14-7)\n",
      "8 (1-1:2-1)(2-1:4-1)(4-1:5-1)(5-1:CE:8-1)(8-1:13-1)(13-1:CE:13-7)\n",
      "8 (1-1:2-1)(2-1:4-1)(4-1:5-1)(5-1:CE:8-1)(8-1:13-1)(13-1:13-4)(13-4:CE:13-7)(13-7:13-8)\n",
      "8 (1-1:2-1)(2-1:3-1)(3-1:CE:7-1)(7-1:8-1)(8-1:12-1)(12-1:12-2)(12-2:13-2)(13-2:14-2)(14-2:14-3)(14-3:14-4)(14-4:14-7)(14-7:14-8)\n",
      "7 (1-1:2-1)(2-1:3-1)(3-1:4-1)(4-1:5-1)(5-1:CE:13-1)(13-1:13-2)(13-2:CE:13-7)\n",
      "7 (1-1:2-1)(2-1:4-1)(4-1:5-1)(5-1:CE:8-1)(8-1:13-1)(13-1:13-2)(13-2:13-3)(13-3:13-4)(13-4:CE:13-7)\n",
      "7 (1-1:2-1)(2-1:4-1)(4-1:CE:7-1)(7-1:8-1)(8-1:13-1)(13-1:13-2)(13-2:14-2)(14-2:14-3)(14-3:14-7)(14-7:14-8)\n",
      "7 (1-1:2-1)(2-1:3-1)(3-1:4-1)(4-1:5-1)(5-1:CE:8-1)(8-1:13-1)(13-1:13-4)(13-4:CE:13-7)(13-7:13-8)\n",
      "7 (1-1:2-1)(2-1:4-1)(4-1:4-2)(4-2:4-4)(4-4:CE:7-7)(7-7:8-7)(8-7:13-7)(13-7:13-8)\n",
      "7 (1-1:2-1)(2-1:3-1)(3-1:CE:7-1)(7-1:8-1)(8-1:12-1)(12-1:12-2)(12-2:13-2)(13-2:13-3)(13-3:CE:13-7)\n",
      "6 (1-1:4-1)(4-1:5-1)(5-1:CE:8-1)(8-1:12-1)(12-1:12-2)(12-2:13-3)(13-3:CE:13-7)\n",
      "6 (1-1:2-1)(2-1:4-1)(4-1:CE:7-1)(7-1:8-1)(8-1:13-1)(13-1:14-1)(14-1:14-2)(14-2:14-3)(14-3:14-7)\n",
      "5 (1-1:2-1)(2-1:3-1)(3-1:4-1)(4-1:5-1)(5-1:13-1)(13-1:13-4)(13-4:13-5)\n",
      "5 (1-1:2-1)(2-1:3-1)(3-1:4-1)(4-1:5-1)(5-1:5-2)(5-2:5-3)(5-3:CE:8-7)(8-7:13-7)\n",
      "5 (1-1:2-1)(2-1:4-1)(4-1:4-2)(4-2:5-2)(5-2:5-3)(5-3:5-4)(5-4:13-4)\n",
      "4 (1-1:2-1)(2-1:4-1)(4-1:5-1)(5-1:CE:14-1)(14-1:14-2)(14-2:14-4)\n",
      "4 (1-1:2-1)(2-1:4-1)(4-1:5-1)(5-1:5-2)(5-2:13-2)(13-2:13-4)\n",
      "4 (1-1:2-1)(2-1:4-1)(4-1:7-1)(7-1:8-1)(8-1:13-1)(13-1:13-2)(13-2:13-4)(13-4:13-7)\n",
      "4 (1-1:4-1)(4-1:7-1)(7-1:8-1)(8-1:13-1)(13-1:13-4)\n",
      "4 (1-1:2-1)(2-1:3-1)(3-1:4-1)(4-1:5-1)(5-1:CE:8-1)(8-1:13-1)(13-1:13-2)(13-2:CE:13-7)(13-7:13-8)(13-8:14-8)\n",
      "3 (1-1:4-1)(4-1:4-2)(4-2:5-2)(5-2:5-3)(5-3:5-4)(5-4:13-4)\n",
      "3 (1-1:2-1)(2-1:3-1)(3-1:4-1)(4-1:7-1)(7-1:8-1)(8-1:13-1)(13-1:13-2)(13-2:13-4)(13-4:CE:13-7)\n",
      "3 (1-1:2-1)(2-1:4-1)(4-1:CE:7-1)(7-1:8-1)(8-1:13-1)(13-1:13-2)(13-2:13-3)(13-3:13-4)\n",
      "2 (1-1:4-1)(4-1:CE:7-1)(7-1:8-1)(8-1:13-1)(13-1:13-2)(13-2:14-2)(14-2:14-3)(14-3:14-4)(14-4:14-7)\n",
      "2 (1-1:2-1)(2-1:4-1)(4-1:7-1)(7-1:8-1)(8-1:14-1)(14-1:14-2)\n",
      "2 (1-1:2-1)(2-1:CE:7-1)(7-1:8-1)(8-1:13-1)(13-1:14-1)\n",
      "2 (1-1:2-1)(2-1:4-1)(4-1:5-1)(5-1:8-1)(8-1:13-1)(13-1:13-2)\n",
      "2 (1-1:4-1)(4-1:5-1)(5-1:13-1)(13-1:13-2)(13-2:13-4)\n",
      "2 (1-1:4-1)(4-1:5-1)(5-1:CE:8-1)(8-1:13-1)(13-1:13-4)(13-4:CE:13-7)\n",
      "2 (1-1:2-1)(2-1:3-1)(3-1:4-1)(4-1:7-1)(7-1:8-1)(8-1:13-1)(13-1:13-2)\n",
      "2 (1-1:2-1)(2-1:CE:7-1)(7-1:8-1)(8-1:13-1)(13-1:14-1)(14-1:14-2)(14-2:14-3)(14-3:14-7)\n",
      "2 (1-1:2-1)(2-1:4-1)(4-1:7-1)(7-1:8-1)(8-1:14-1)(14-1:14-2)(14-2:14-4)(14-4:CE:14-7)\n",
      "2 (1-1:2-1)(2-1:4-1)(4-1:7-1)(7-1:8-1)(8-1:13-1)(13-1:13-2)(13-2:13-4)(13-4:13-7)(13-7:13-8)\n",
      "1 (1-1:2-1)(2-1:3-1)(3-1:4-1)(4-1:5-1)(5-1:5-2)(5-2:13-2)(13-2:13-3)(13-3:13-4)(13-4:13-5)\n",
      "1 (1-1:2-1)(2-1:4-1)(4-1:5-1)(5-1:CE:8-1)(8-1:13-1)(13-1:13-3)\n",
      "1 (1-1:2-1)(2-1:4-1)(4-1:5-1)(5-1:14-1)(14-1:14-2)\n",
      "1 (1-1:2-1)(2-1:3-1)(3-1:4-1)(4-1:5-1)(5-1:13-1)(13-1:13-2)(13-2:13-3)(13-3:13-4)(13-4:13-5)(13-5:13-6)(13-6:14-6)\n",
      "1 (1-1:2-1)(2-1:4-1)(4-1:7-1)(7-1:8-1)(8-1:14-1)(14-1:14-4)\n",
      "1 (1-1:2-1)(2-1:4-1)(4-1:CE:7-1)(7-1:7-2)(7-2:8-2)(8-2:8-4)(8-4:13-4)\n",
      "1 (1-1:2-1)(2-1:3-1)(3-1:4-1)(4-1:5-1)(5-1:CE:8-1)(8-1:13-1)(13-1:13-3)\n",
      "1 (1-1:3-1)(3-1:4-1)(4-1:5-1)(5-1:CE:8-1)(8-1:13-1)(13-1:13-2)(13-2:CE:13-7)\n"
     ]
    }
   ],
   "source": [
    "\n",
    "hists, n_hists = np.unique(evol_set, return_counts=True)\n",
    "\n",
    "idx = np.argsort(n_hists)[::-1]\n",
    "for i in np.arange(len(hists)):\n",
    "    print n_hists[idx[i]], hists[idx[i]]"
   ]
  },
  {
   "cell_type": "code",
   "execution_count": null,
   "metadata": {
    "collapsed": true
   },
   "outputs": [],
   "source": []
  }
 ],
 "metadata": {
  "kernelspec": {
   "display_name": "Python 2",
   "language": "python",
   "name": "python2"
  },
  "language_info": {
   "codemirror_mode": {
    "name": "ipython",
    "version": 2
   },
   "file_extension": ".py",
   "mimetype": "text/x-python",
   "name": "python",
   "nbconvert_exporter": "python",
   "pygments_lexer": "ipython2",
   "version": "2.7.12"
  }
 },
 "nbformat": 4,
 "nbformat_minor": 0
}
