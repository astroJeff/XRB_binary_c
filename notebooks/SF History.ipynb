{
 "cells": [
  {
   "cell_type": "code",
   "execution_count": 2,
   "metadata": {
    "collapsed": false
   },
   "outputs": [
    {
     "name": "stderr",
     "output_type": "stream",
     "text": [
      "/usr/local/lib/python2.7/dist-packages/matplotlib/__init__.py:1401: UserWarning:  This call to matplotlib.use() has no effect\n",
      "because the backend has already been chosen;\n",
      "matplotlib.use() must be called *before* pylab, matplotlib.pyplot,\n",
      "or matplotlib.backends is imported for the first time.\n",
      "\n",
      "  warnings.warn(_use_error_msg)\n"
     ]
    }
   ],
   "source": [
    "import numpy as np\n",
    "import matplotlib.pyplot as plt\n",
    "import pickle\n",
    "\n",
    "import corner\n",
    "\n",
    "import binary_c\n",
    "import xrb\n",
    "from xrb.binary import binary_evolve\n",
    "from xrb.src import stats\n",
    "from xrb.SF_history import sf_history\n",
    "\n",
    "from xrb.src.core import *\n",
    "set_data_path(\"../data\")\n",
    "\n",
    "\n",
    "%matplotlib inline"
   ]
  },
  {
   "cell_type": "code",
   "execution_count": 5,
   "metadata": {
    "collapsed": false
   },
   "outputs": [],
   "source": [
    "\n",
    "def calc_sfr_at_time(tmin=5, tmax=100, n_times=25, N_ran=int(1.0e5)):\n",
    "\n",
    "    \"\"\" Calculate the star formation rate over the entire region at a time\n",
    "    \n",
    "    Parameters\n",
    "    ----------\n",
    "    tmin, tmax : float\n",
    "        Start and end times to calculate sfr's\n",
    "    n_times : int\n",
    "        Number of times to calculate sfr\n",
    "    N_ran : int\n",
    "        Number of random samples to draw for Monte Carlo integration\n",
    "        \n",
    "    Returns\n",
    "    -------\n",
    "    sfr_ times : ndarray\n",
    "        Numpy array of times\n",
    "    \n",
    "    sfr : ndarray\n",
    "        Numpy array of star formation rates at specified times\n",
    "\n",
    "    \"\"\"\n",
    "\n",
    "\n",
    "    # Calculate the integration area in steradians\n",
    "    integration_area = (sf_history.ra_max-sf_history.ra_min) * \\\n",
    "                       (sf_history.dec_max-sf_history.dec_min) * \\\n",
    "                       (np.pi/180.)**2\n",
    "\n",
    "\n",
    "    sfr = np.zeros(n_times)  # 20 different time samples\n",
    "\n",
    "    for i, t in zip(np.arange(n_times), np.linspace(tmin, tmax, n_times)):\n",
    "\n",
    "        # Generate random position coordinates\n",
    "        ran_ra = (sf_history.ra_max-sf_history.ra_min) * np.random.uniform(size=N_ran) + sf_history.ra_min\n",
    "        ran_dec = (sf_history.dec_max-sf_history.dec_min) * np.random.uniform(size=N_ran) + sf_history.dec_min\n",
    "\n",
    "        # Must create a vector of times for star formation history input\n",
    "        time = t * np.ones(N_ran)\n",
    "\n",
    "        # Call star formation history function\n",
    "        # sfr_temp has units of Msun/Myr/str\n",
    "        sfr_temp = sf_history.get_SFH(ran_ra, ran_dec, time, sf_history.sf_coor, sf_history.sf_sfh)\n",
    "\n",
    "        # Perform the Monte Carlo integration\n",
    "        sfr[i] = np.sum(sfr_temp) / float(N_ran) * integration_area\n",
    "        \n",
    "    # Return times and sfr's\n",
    "    return np.linspace(tmin, tmax, n_times), sfr\n"
   ]
  },
  {
   "cell_type": "code",
   "execution_count": 6,
   "metadata": {
    "collapsed": false
   },
   "outputs": [
    {
     "ename": "KeyboardInterrupt",
     "evalue": "",
     "output_type": "error",
     "traceback": [
      "\u001b[1;31m---------------------------------------------------------------------------\u001b[0m",
      "\u001b[1;31mKeyboardInterrupt\u001b[0m                         Traceback (most recent call last)",
      "\u001b[1;32m<ipython-input-6-f19165211e62>\u001b[0m in \u001b[0;36m<module>\u001b[1;34m()\u001b[0m\n\u001b[0;32m      4\u001b[0m \u001b[0msf_history\u001b[0m\u001b[1;33m.\u001b[0m\u001b[0mreset_sf_history\u001b[0m\u001b[1;33m(\u001b[0m\u001b[1;33m)\u001b[0m\u001b[1;33m\u001b[0m\u001b[0m\n\u001b[0;32m      5\u001b[0m \u001b[0msf_history\u001b[0m\u001b[1;33m.\u001b[0m\u001b[0mload_sf_history\u001b[0m\u001b[1;33m(\u001b[0m\u001b[0mz\u001b[0m\u001b[1;33m=\u001b[0m\u001b[1;36m0.008\u001b[0m\u001b[1;33m)\u001b[0m\u001b[1;33m\u001b[0m\u001b[0m\n\u001b[1;32m----> 6\u001b[1;33m \u001b[0mtimes_lmc_008\u001b[0m\u001b[1;33m,\u001b[0m \u001b[0msfr_lmc_008\u001b[0m \u001b[1;33m=\u001b[0m \u001b[0mcalc_sfr_at_time\u001b[0m\u001b[1;33m(\u001b[0m\u001b[0mtmin\u001b[0m\u001b[1;33m=\u001b[0m\u001b[1;36m6.3\u001b[0m\u001b[1;33m,\u001b[0m \u001b[0mtmax\u001b[0m\u001b[1;33m=\u001b[0m\u001b[1;36m150\u001b[0m\u001b[1;33m)\u001b[0m\u001b[1;33m\u001b[0m\u001b[0m\n\u001b[0m\u001b[0;32m      7\u001b[0m \u001b[1;33m\u001b[0m\u001b[0m\n\u001b[0;32m      8\u001b[0m \u001b[1;31m###### z = 0.004 ######\u001b[0m\u001b[1;33m\u001b[0m\u001b[1;33m\u001b[0m\u001b[0m\n",
      "\u001b[1;32m<ipython-input-5-225a5062d41b>\u001b[0m in \u001b[0;36mcalc_sfr_at_time\u001b[1;34m(tmin, tmax, n_times, N_ran)\u001b[0m\n\u001b[0;32m     41\u001b[0m         \u001b[1;31m# Call star formation history function\u001b[0m\u001b[1;33m\u001b[0m\u001b[1;33m\u001b[0m\u001b[0m\n\u001b[0;32m     42\u001b[0m         \u001b[1;31m# sfr_temp has units of Msun/Myr/str\u001b[0m\u001b[1;33m\u001b[0m\u001b[1;33m\u001b[0m\u001b[0m\n\u001b[1;32m---> 43\u001b[1;33m         \u001b[0msfr_temp\u001b[0m \u001b[1;33m=\u001b[0m \u001b[0msf_history\u001b[0m\u001b[1;33m.\u001b[0m\u001b[0mget_SFH\u001b[0m\u001b[1;33m(\u001b[0m\u001b[0mran_ra\u001b[0m\u001b[1;33m,\u001b[0m \u001b[0mran_dec\u001b[0m\u001b[1;33m,\u001b[0m \u001b[0mtime\u001b[0m\u001b[1;33m,\u001b[0m \u001b[0msf_history\u001b[0m\u001b[1;33m.\u001b[0m\u001b[0msf_coor\u001b[0m\u001b[1;33m,\u001b[0m \u001b[0msf_history\u001b[0m\u001b[1;33m.\u001b[0m\u001b[0msf_sfh\u001b[0m\u001b[1;33m)\u001b[0m\u001b[1;33m\u001b[0m\u001b[0m\n\u001b[0m\u001b[0;32m     44\u001b[0m \u001b[1;33m\u001b[0m\u001b[0m\n\u001b[0;32m     45\u001b[0m         \u001b[1;31m# Perform the Monte Carlo integration\u001b[0m\u001b[1;33m\u001b[0m\u001b[1;33m\u001b[0m\u001b[0m\n",
      "\u001b[1;32m/home/andrews/Research/XRB/xrb/SF_history/sf_history.pyc\u001b[0m in \u001b[0;36mget_SFH\u001b[1;34m(ra, dec, t_b, coor, sfh)\u001b[0m\n\u001b[0;32m    173\u001b[0m         \u001b[0mdec1\u001b[0m\u001b[1;33m,\u001b[0m \u001b[0mdec2\u001b[0m \u001b[1;33m=\u001b[0m \u001b[0mnp\u001b[0m\u001b[1;33m.\u001b[0m\u001b[0mmeshgrid\u001b[0m\u001b[1;33m(\u001b[0m\u001b[0mc\u001b[0m\u001b[1;33m.\u001b[0m\u001b[0mdeg_to_rad\u001b[0m \u001b[1;33m*\u001b[0m \u001b[0mdec\u001b[0m\u001b[1;33m,\u001b[0m \u001b[0mc\u001b[0m\u001b[1;33m.\u001b[0m\u001b[0mdeg_to_rad\u001b[0m \u001b[1;33m*\u001b[0m \u001b[0mcoor\u001b[0m\u001b[1;33m[\u001b[0m\u001b[1;34m\"dec\"\u001b[0m\u001b[1;33m]\u001b[0m\u001b[1;33m)\u001b[0m\u001b[1;33m\u001b[0m\u001b[0m\n\u001b[0;32m    174\u001b[0m \u001b[1;33m\u001b[0m\u001b[0m\n\u001b[1;32m--> 175\u001b[1;33m         \u001b[0mdist\u001b[0m \u001b[1;33m=\u001b[0m \u001b[0mnp\u001b[0m\u001b[1;33m.\u001b[0m\u001b[0msqrt\u001b[0m\u001b[1;33m(\u001b[0m\u001b[1;33m(\u001b[0m\u001b[0mra1\u001b[0m\u001b[1;33m-\u001b[0m\u001b[0mra2\u001b[0m\u001b[1;33m)\u001b[0m\u001b[1;33m**\u001b[0m\u001b[1;36m2\u001b[0m\u001b[1;33m*\u001b[0m\u001b[0mnp\u001b[0m\u001b[1;33m.\u001b[0m\u001b[0mcos\u001b[0m\u001b[1;33m(\u001b[0m\u001b[0mdec1\u001b[0m\u001b[1;33m)\u001b[0m\u001b[1;33m*\u001b[0m\u001b[0mnp\u001b[0m\u001b[1;33m.\u001b[0m\u001b[0mcos\u001b[0m\u001b[1;33m(\u001b[0m\u001b[0mdec2\u001b[0m\u001b[1;33m)\u001b[0m \u001b[1;33m+\u001b[0m \u001b[1;33m(\u001b[0m\u001b[0mdec1\u001b[0m\u001b[1;33m-\u001b[0m\u001b[0mdec2\u001b[0m\u001b[1;33m)\u001b[0m\u001b[1;33m**\u001b[0m\u001b[1;36m2\u001b[0m\u001b[1;33m)\u001b[0m\u001b[1;33m\u001b[0m\u001b[0m\n\u001b[0m\u001b[0;32m    176\u001b[0m         \u001b[0mindices\u001b[0m \u001b[1;33m=\u001b[0m \u001b[0mdist\u001b[0m\u001b[1;33m.\u001b[0m\u001b[0margmin\u001b[0m\u001b[1;33m(\u001b[0m\u001b[0maxis\u001b[0m\u001b[1;33m=\u001b[0m\u001b[1;36m0\u001b[0m\u001b[1;33m)\u001b[0m\u001b[1;33m\u001b[0m\u001b[0m\n\u001b[0;32m    177\u001b[0m \u001b[1;33m\u001b[0m\u001b[0m\n",
      "\u001b[1;31mKeyboardInterrupt\u001b[0m: "
     ]
    }
   ],
   "source": [
    "c.sf_scheme = \"LMC\"\n",
    "\n",
    "###### z = 0.008 ######\n",
    "sf_history.reset_sf_history()\n",
    "sf_history.load_sf_history(z=0.008)\n",
    "times_lmc_008, sfr_lmc_008 = calc_sfr_at_time(tmin=6.3, tmax=150)\n",
    "\n",
    "###### z = 0.004 ######\n",
    "sf_history.reset_sf_history()\n",
    "sf_history.load_sf_history(z=0.004)\n",
    "times_lmc_004, sfr_lmc_004 = calc_sfr_at_time(tmin=6.3, tmax=150)\n",
    "\n",
    "###### z = 0.0025 ######\n",
    "sf_history.reset_sf_history()\n",
    "sf_history.load_sf_history(z=0.0025)\n",
    "times_lmc_0025, sfr_lmc_0025 = calc_sfr_at_time(tmin=6.3, tmax=150)\n",
    "\n",
    "###### z = 0.001 ######\n",
    "sf_history.reset_sf_history()\n",
    "sf_history.load_sf_history(z=0.001)\n",
    "times_lmc_001, sfr_lmc_001 = calc_sfr_at_time(tmin=6.3, tmax=150)\n",
    "\n",
    "\n",
    "\n",
    "c.sf_scheme = \"SMC\"\n",
    "\n",
    "###### z = 0.008 ######\n",
    "sf_history.reset_sf_history()\n",
    "sf_history.load_sf_history(z=0.008)\n",
    "times_smc_008, sfr_smc_008 = calc_sfr_at_time(tmin=6.3, tmax=150)\n",
    "\n",
    "###### z = 0.004 ######\n",
    "sf_history.reset_sf_history()\n",
    "sf_history.load_sf_history(z=0.004)\n",
    "times_smc_004, sfr_smc_004 = calc_sfr_at_time(tmin=6.3, tmax=150)\n",
    "\n",
    "###### z = 0.001 ######\n",
    "sf_history.reset_sf_history()\n",
    "sf_history.load_sf_history(z=0.001)\n",
    "times_smc_001, sfr_smc_001 = calc_sfr_at_time(tmin=6.3, tmax=150)\n"
   ]
  },
  {
   "cell_type": "code",
   "execution_count": null,
   "metadata": {
    "collapsed": false
   },
   "outputs": [],
   "source": [
    "# LMC #\n",
    "times_lmc = times_lmc_008\n",
    "sfr_lmc = sfr_lmc_008 + sfr_lmc_004 + sfr_lmc_0025 + sfr_lmc_001\n",
    "plt.plot(times_lmc_008, sfr_lmc_008/1.0e6, label=r'LMC, $z=0.008$', color='b', linestyle='--')\n",
    "# plt.plot(times_lmc_004, sfr_lmc_004/1.0e6, label='LMC')\n",
    "# plt.plot(times_lmc_0025, sfr_lmc_0025/1.0e6, label='LMC')\n",
    "# plt.plot(times_lmc_001, sfr_lmc_001/1.0e6, label='LMC')\n",
    "plt.plot(times_lmc, sfr_lmc/1.0e6, label=r'LMC, all $z$', color='b', linestyle='-')\n",
    "\n",
    "# SMC #\n",
    "times_smc = times_smc_008\n",
    "sfr_smc = sfr_smc_008 + sfr_smc_004 + sfr_smc_001\n",
    "plt.plot(times_smc_008, sfr_smc_008/1.0e6, label=r'SMC, $z=0.008$', color='g', linestyle='--')\n",
    "# plt.plot(times_smc_004, sfr_smc_004/1.0e6, label='SMC')\n",
    "# plt.plot(times_smc_001, sfr_smc_001/1.0e6, label='SMC')\n",
    "plt.plot(times_smc, sfr_smc/1.0e6, label=r'SMC, all $z$', color='g', linestyle='-')\n",
    "\n",
    "\n",
    "plt.xlabel(\"Time (Myr)\")\n",
    "plt.ylabel(r\"Integrated Star Formation Rate (M$\\odot$ / yr)\")\n",
    "\n",
    "plt.ylim(0, 1.4)\n",
    "plt.xlim(6.3, 150)\n",
    "plt.legend(ncol=2)\n",
    "\n",
    "# plt.savefig(\"../figures/MC_star_formation.pdf\")\n",
    "plt.show()"
   ]
  },
  {
   "cell_type": "code",
   "execution_count": null,
   "metadata": {
    "collapsed": false
   },
   "outputs": [],
   "source": []
  },
  {
   "cell_type": "code",
   "execution_count": null,
   "metadata": {
    "collapsed": true
   },
   "outputs": [],
   "source": []
  }
 ],
 "metadata": {
  "kernelspec": {
   "display_name": "Python 2",
   "language": "python",
   "name": "python2"
  },
  "language_info": {
   "codemirror_mode": {
    "name": "ipython",
    "version": 2
   },
   "file_extension": ".py",
   "mimetype": "text/x-python",
   "name": "python",
   "nbconvert_exporter": "python",
   "pygments_lexer": "ipython2",
   "version": "2.7.12"
  }
 },
 "nbformat": 4,
 "nbformat_minor": 2
}
